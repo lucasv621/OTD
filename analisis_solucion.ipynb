{
 "cells": [
  {
   "cell_type": "code",
   "execution_count": 1,
   "metadata": {},
   "outputs": [],
   "source": [
    "# Parse the input file and calculate the total cost of the TSP route provided\n",
    "\n",
    "# Read file content\n",
    "file_path = 'instancias/instancia_50_clientes.txt'\n",
    "with open(file_path, 'r') as file:\n",
    "    data = file.readlines()\n",
    "\n"
   ]
  },
  {
   "cell_type": "code",
   "execution_count": 3,
   "metadata": {},
   "outputs": [],
   "source": [
    "# Extract TSP cost data\n",
    "tsp_costs = {}\n",
    "for line in data[7:]:  # Skip first lines that are not cost data\n",
    "    client1, client2, _, cost = map(int, line.split())\n",
    "    tsp_costs[(client1, client2)] = cost\n",
    "    tsp_costs[(client2, client1)] = cost  # Add reverse direction\n",
    "\n",
    "# Provided TSP route\n",
    "tsp_route = [\n",
    "    (1, 23), (23, 37), (37, 35), (35, 10), (10, 27), (27, 8), (8, 26), (26, 41), \n",
    "    (41, 14), (14, 13), (13, 33), (33, 21), (21, 4), (4, 11), (11, 31), (31, 44), \n",
    "    (44, 15), (15, 34), (34, 17), (17, 24), (24, 2), (2, 43), (43, 32), (32, 38), \n",
    "    (38, 39), (39, 30), (30, 42), (42, 12), (12, 9), (9, 46), (46, 25), (25, 16), \n",
    "    (16, 36), (36, 19), (19, 47), (47, 29), (29, 45), (45, 6), (6, 48), (48, 5), \n",
    "    (5, 18), (18, 50), (50, 7), (7, 22), (22, 49), (49, 40), (40, 20), (20, 28), \n",
    "    (28, 3), (3, 1)\n",
    "]\n",
    "\n"
   ]
  },
  {
   "cell_type": "code",
   "execution_count": 8,
   "metadata": {},
   "outputs": [
    {
     "data": {
      "text/plain": [
       "[1,\n",
       " 1,\n",
       " 1,\n",
       " 2,\n",
       " 2,\n",
       " 1,\n",
       " 1,\n",
       " 1,\n",
       " 1,\n",
       " 1,\n",
       " 1,\n",
       " 1,\n",
       " 1,\n",
       " 1,\n",
       " 1,\n",
       " 1,\n",
       " 1,\n",
       " 1,\n",
       " 1,\n",
       " 1,\n",
       " 1,\n",
       " 1,\n",
       " 1,\n",
       " 1,\n",
       " 1,\n",
       " 1,\n",
       " 1,\n",
       " 1,\n",
       " 1,\n",
       " 1,\n",
       " 1,\n",
       " 1,\n",
       " 1,\n",
       " 1,\n",
       " 1,\n",
       " 1,\n",
       " 1,\n",
       " 1,\n",
       " 1,\n",
       " 1,\n",
       " 1,\n",
       " 1,\n",
       " 1,\n",
       " 1,\n",
       " 1,\n",
       " 1,\n",
       " 1,\n",
       " 1,\n",
       " 1,\n",
       " 1]"
      ]
     },
     "execution_count": 8,
     "metadata": {},
     "output_type": "execute_result"
    }
   ],
   "source": [
    "[tsp_costs[edge] for edge in tsp_route]"
   ]
  },
  {
   "cell_type": "code",
   "execution_count": 4,
   "metadata": {},
   "outputs": [
    {
     "data": {
      "text/plain": [
       "52"
      ]
     },
     "execution_count": 4,
     "metadata": {},
     "output_type": "execute_result"
    }
   ],
   "source": [
    "# Calculate total cost\n",
    "total_cost = sum(tsp_costs[edge] for edge in tsp_route)\n",
    "\n",
    "total_cost"
   ]
  },
  {
   "cell_type": "code",
   "execution_count": null,
   "metadata": {},
   "outputs": [],
   "source": []
  }
 ],
 "metadata": {
  "kernelspec": {
   "display_name": "cplex-env",
   "language": "python",
   "name": "python3"
  },
  "language_info": {
   "codemirror_mode": {
    "name": "ipython",
    "version": 3
   },
   "file_extension": ".py",
   "mimetype": "text/x-python",
   "name": "python",
   "nbconvert_exporter": "python",
   "pygments_lexer": "ipython3",
   "version": "3.10.16"
  }
 },
 "nbformat": 4,
 "nbformat_minor": 2
}
