{
 "cells": [
  {
   "cell_type": "code",
   "execution_count": 4,
   "metadata": {},
   "outputs": [],
   "source": [
    "from generador_de_instancias import generar_archivo_datos"
   ]
  },
  {
   "cell_type": "code",
   "execution_count": 5,
   "metadata": {},
   "outputs": [],
   "source": [
    "cantidad_clientes = 30\n",
    "costo_repartidor = 1\n",
    "d_max = 7\n",
    "cantidad_refrigerados = 5\n",
    "cantidad_exclusivos = 1"
   ]
  },
  {
   "cell_type": "code",
   "execution_count": 6,
   "metadata": {},
   "outputs": [],
   "source": [
    "costo_repartidor_lista = [1, 2, 3, 5, 6, 7]\n",
    "d_max_lista = [2, 4, 6, 7, 8, 9]\n",
    "\n",
    "for i in range(len(costo_repartidor_lista)):\n",
    "    for j in range(len(d_max_lista)):\n",
    "        costo_repartidor = costo_repartidor_lista[i]\n",
    "        d_max = d_max_lista[j]\n",
    "        generar_archivo_datos(f'instancias/instancia_{costo_repartidor}_costorep_{d_max}_dmax.txt', cantidad_clientes, costo_repartidor, d_max, cantidad_refrigerados, cantidad_exclusivos)"
   ]
  },
  {
   "cell_type": "code",
   "execution_count": 8,
   "metadata": {},
   "outputs": [
    {
     "name": "stdout",
     "output_type": "stream",
     "text": [
      "Variables xij 870\n",
      "Variables yij 870\n",
      "Variables u_i 30\n",
      "Version identifier: 22.1.1.0 | 2022-11-28 | 9160aff4d\n",
      "CPXPARAM_Read_DataCheck                          1\n",
      "CPXPARAM_MIP_Tolerances_MIPGap                   1e-10\n",
      "Tried aggregator 2 times.\n",
      "MIP Presolve eliminated 1758 rows and 790 columns.\n",
      "MIP Presolve modified 1712 coefficients.\n",
      "Aggregator did 6 substitutions.\n",
      "Reduced MIP has 997 rows, 1004 columns, and 6107 nonzeros.\n",
      "Reduced MIP has 975 binaries, 29 generals, 0 SOSs, and 0 indicators.\n",
      "Presolve time = 0.01 sec. (6.66 ticks)\n",
      "Probing time = 0.00 sec. (2.75 ticks)\n",
      "Tried aggregator 1 time.\n",
      "Detecting symmetries...\n",
      "Reduced MIP has 997 rows, 1004 columns, and 6107 nonzeros.\n",
      "Reduced MIP has 975 binaries, 29 generals, 0 SOSs, and 0 indicators.\n",
      "Presolve time = 0.00 sec. (3.74 ticks)\n",
      "Probing time = 0.00 sec. (2.76 ticks)\n",
      "Clique table members: 3146.\n",
      "MIP emphasis: balance optimality and feasibility.\n",
      "MIP search method: dynamic search.\n",
      "Parallel mode: deterministic, using up to 8 threads.\n",
      "Root relaxation solution time = 0.00 sec. (3.23 ticks)\n",
      "\n",
      "        Nodes                                         Cuts/\n",
      "   Node  Left     Objective  IInf  Best Integer    Best Bound    ItCnt     Gap\n",
      "\n",
      "      0     0       38.0345    64                     38.0345      174         \n",
      "      0     0       39.0345    77                    Cuts: 55      252         \n",
      "      0     0       40.2500    65                    Cuts: 32      305         \n",
      "      0     0       41.1667    84                    Cuts: 29      356         \n",
      "      0     0       41.8667    75                    Cuts: 35      432         \n",
      "      0     0       42.0833    87                    Cuts: 24      461         \n",
      "Detecting symmetries...\n",
      "      0     0       42.2308    99                    Cuts: 19      482         \n",
      "*     0+    0                           51.0000       42.2308            17.19%\n",
      "      0     0       42.3333    74       51.0000      Cuts: 11      514   16.99%\n",
      "      0     0       42.3333    73       51.0000      Cuts: 14      534   16.99%\n",
      "      0     0       42.3333    49       51.0000       Cuts: 3      535   16.99%\n",
      "      0     0       42.3333    62       51.0000       Cuts: 7      592   16.99%\n",
      "*     0+    0                           48.0000       42.5000            11.46%\n",
      "      0     0  -1.00000e+75     0       48.0000       42.5000      592   11.46%\n",
      "Detecting symmetries...\n",
      "      0     2       42.3333    48       48.0000       42.5000      592   11.46%\n",
      "Elapsed time = 0.20 sec. (270.34 ticks, tree = 0.02 MB, solutions = 2)\n",
      "*    53+    6                           46.0000       42.5000             7.61%\n",
      "*   568+  259                           45.0000       42.5000             5.56%\n",
      "   1016   128       43.1456    85       45.0000       42.5000    21963    5.56%\n",
      "*  1308   255      integral     0       44.0000       42.5000    29314    3.41%\n",
      "\n",
      "Clique cuts applied:  27\n",
      "Implied bound cuts applied:  254\n",
      "Mixed integer rounding cuts applied:  26\n",
      "Zero-half cuts applied:  18\n",
      "Multi commodity flow cuts applied:  2\n",
      "Lift and project cuts applied:  1\n",
      "Gomory fractional cuts applied:  4\n",
      "\n",
      "Root node processing (before b&c):\n",
      "  Real time             =    0.20 sec. (269.86 ticks)\n",
      "Parallel b&c, 8 threads:\n",
      "  Real time             =    0.28 sec. (396.68 ticks)\n",
      "  Sync time (average)   =    0.09 sec.\n",
      "  Wait time (average)   =    0.00 sec.\n",
      "                          ------------\n",
      "Total (root+branch&cut) =    0.48 sec. (666.54 ticks)\n",
      "\n",
      "Funcion objetivo:  44.0 (integer optimal solution)\n",
      "Variables con valor positivo:\n",
      "---------------------------------\n",
      "x:\n",
      "[(1, 19), (19, 11), (11, 12), (12, 17), (17, 5), (5, 10), (10, 9), (9, 8), (8, 23), (23, 15), (15, 28), (28, 3), (3, 29), (29, 20), (20, 6), (6, 24), (24, 16), (16, 25), (25, 1)]\n",
      "---------------------------------\n",
      "y:\n",
      "{(5, 2): 1.0, (5, 7): 1.0, (8, 13): 1.0, (9, 26): 1.0, (10, 4): 1.0, (10, 18): 1.0, (11, 14): 1.0, (12, 30): 1.0, (16, 22): 1.0, (20, 21): 1.0, (29, 27): 1.0}\n",
      "---------------------------------\n",
      "u:\n",
      "{1: 1.0, 19: 2.0, 11: 3.0, 12: 4.000000000000002, 17: 5.000000000000002, 5: 6.000000000000005, 10: 7.000000000000005, 9: 8.000000000000009, 8: 9.000000000000012, 23: 10.000000000000016, 15: 11.00000000000002, 28: 12.000000000000021, 3: 13.000000000000023, 29: 14.000000000000023, 20: 15.000000000000023, 6: 16.000000000000025, 24: 17.000000000000025, 16: 18.00000000000003, 25: 29.999999999999996}\n",
      "---------------------------------\n",
      "z:\n",
      "{5: 1.0, 8: 1.0, 9: 1.0, 10: 1.0, 11: 1.0, 12: 1.0, 16: 1.0, 20: 1.0, 29: 1.0}\n",
      "---------------------------------\n"
     ]
    }
   ],
   "source": [
    "!python /Users/lucasveteikis/Desktop/mim/otd/OTD/tp2024_alu.py /Users/lucasveteikis/Desktop/mim/otd/OTD/instancias/instancias_costorep_dmax/instancia_1_costorep_2_dmax.txt"
   ]
  },
  {
   "cell_type": "code",
   "execution_count": null,
   "metadata": {},
   "outputs": [],
   "source": []
  }
 ],
 "metadata": {
  "kernelspec": {
   "display_name": "cplex-env",
   "language": "python",
   "name": "python3"
  },
  "language_info": {
   "codemirror_mode": {
    "name": "ipython",
    "version": 3
   },
   "file_extension": ".py",
   "mimetype": "text/x-python",
   "name": "python",
   "nbconvert_exporter": "python",
   "pygments_lexer": "ipython3",
   "version": "3.10.16"
  }
 },
 "nbformat": 4,
 "nbformat_minor": 2
}
